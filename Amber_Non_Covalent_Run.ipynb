{
 "cells": [
  {
   "cell_type": "code",
   "execution_count": null,
   "id": "8e77c8c5-9efd-43b9-8bc5-0014f6ee5162",
   "metadata": {},
   "outputs": [],
   "source": [
    "import matplotlib.pyplot as plt\n",
    "import os\n",
    "import numpy as np\n",
    "import math\n",
    "import subprocess"
   ]
  },
  {
   "cell_type": "markdown",
   "id": "4060d403",
   "metadata": {},
   "source": [
    "> **Note:** This cell below is optional.  \n",
    "> The bash script often printed extra comments, which cluttered the output.  \n",
    "> Running this cell simply helps keep the output cleaner."
   ]
  },
  {
   "cell_type": "code",
   "execution_count": 2,
   "id": "628eca21-226e-4931-8a49-fee6c9a748b1",
   "metadata": {},
   "outputs": [
    {
     "name": "stdout",
     "output_type": "stream",
     "text": [
      "✅ Cleaned exported bash functions. Subshells will be quiet now.\n"
     ]
    }
   ],
   "source": [
    "import os\n",
    "\n",
    "# Strip out the exported bash functions that break Jupyter subshells\n",
    "for key in list(os.environ):\n",
    "    if key.startswith(\"BASH_FUNC_\"):\n",
    "        del os.environ[key]\n",
    "\n",
    "print(\"✅ Cleaned exported bash functions. Subshells will be quiet now.\")\n"
   ]
  },
  {
   "cell_type": "markdown",
   "id": "6a5cfe96",
   "metadata": {},
   "source": [
    "> Sometimes you may want to run code in a different directory than where this `.ipynb` notebook is located.  \n",
    "> The cell below sets the working directory for everything you run after executing it."
   ]
  },
  {
   "cell_type": "code",
   "execution_count": 3,
   "id": "113d8b9c-5af0-49d2-a68a-944a96f716de",
   "metadata": {},
   "outputs": [
    {
     "name": "stdout",
     "output_type": "stream",
     "text": [
      "/panfs/accrepfs.vampire/data/kojetin_lab/Mithun/My_Github/Amber_noncovalent_run\n"
     ]
    },
    {
     "data": {
      "text/plain": [
       "'/panfs/accrepfs.vampire/data/kojetin_lab/Mithun/My_Github/Amber_noncovalent_run'"
      ]
     },
     "execution_count": 3,
     "metadata": {},
     "output_type": "execute_result"
    }
   ],
   "source": [
    "# set working directory for all future cells\n",
    "os.chdir(\"/panfs/accrepfs.vampire/data/kojetin_lab/Mithun/My_Github/Amber_noncovalent_run\")\n",
    "# and check with bash command pwd - note the exclamation mark at the beginning\n",
    "!pwd\n",
    "# or in python\n",
    "os.getcwd()"
   ]
  },
  {
   "cell_type": "markdown",
   "id": "ca6c1800",
   "metadata": {},
   "source": [
    "> **Important:**  \n",
    "> These scripts are tailored for **ACCRE** and load modules available on ACCRE at Vanderbilt University.\n",
    "> \n",
    "> **Option 1 – Adjust for your HPC:**  \n",
    "> Edit the `module load` lines to match the Amber modules you would like to use\n",
    "> **Option 2 – Source Amber.sh:**  \n",
    "> If your cluster doesn’t use modules, remove those lines and source the AMBER environment , e.g.:\n",
    "> ```bash\n",
    "> source /sb/apps/amber22/amber.sh\n",
    "> ```\n",
    "> This ensures the correct AMBER version is used on any cluster.\n"
   ]
  },
  {
   "cell_type": "code",
   "execution_count": 4,
   "id": "05ecfbf0-c4cf-4e08-b759-05472a3b6ab0",
   "metadata": {},
   "outputs": [],
   "source": [
    "import os, subprocess\n",
    "\n",
    "def load_amber_env():\n",
    "    \"\"\"Load AmberTools + Amber environment into the Jupyter kernel.\"\"\"\n",
    "    bash_cmd = \"\"\"\n",
    "    module purge\n",
    "    module load StdEnvACCRE/2023\n",
    "    module load gcc/12.3 openmpi/4.1.5 cuda/12.2\n",
    "    module load ambertools/25.0\n",
    "    module load scipy-stack/2025a\n",
    "    module load amber/24\n",
    "    env\n",
    "    \"\"\"\n",
    "    env_output = subprocess.check_output([\"bash\", \"-c\", bash_cmd], text=True)\n",
    "    for line in env_output.splitlines():\n",
    "        if \"=\" in line:\n",
    "            k, v = line.split(\"=\", 1)\n",
    "            os.environ[k] = v\n",
    "    print(\"✅ Amber environment loaded into Jupyter kernel.\")\n"
   ]
  },
  {
   "cell_type": "markdown",
   "id": "28961820",
   "metadata": {},
   "source": [
    "> Run the next cell to load the **AmberTools + Amber environment** into your Jupyter kernel.  \n",
    "> This ensures all subsequent commands use the correct modules and environment variables.\n"
   ]
  },
  {
   "cell_type": "code",
   "execution_count": 5,
   "id": "2fe59af6-94c4-43a7-b45d-523eba007309",
   "metadata": {
    "scrolled": true
   },
   "outputs": [
    {
     "name": "stderr",
     "output_type": "stream",
     "text": [
      "The following modules were not unloaded:\n",
      "  (Use \"module --force purge\" to unload all):\n",
      "\n",
      "  1) CCconfig        6)  ucx/1.14.1         11) flexiblas/3.3.1\n",
      "  2) gentoo/2023     7)  libfabric/1.18.0   12) imkl/2023.2.0\n",
      "  3) gcccore/.12.3   8)  pmix/4.2.4         13) StdEnvACCRE/2023\n",
      "  4) gcc/12.3        9)  ucc/1.2.0\n",
      "  5) hwloc/2.9.1     10) openmpi/4.1.5\n",
      "Lmod Warning:\n",
      "-------------------------------------------------------------------------------\n",
      "The following dependent module(s) are not currently loaded: scipy-stack/2023b\n",
      "(required by: plumed/2.9.0, ambertools/25.0)\n",
      "-------------------------------------------------------------------------------\n",
      "\n",
      "\n",
      "\n",
      "\n",
      "The following have been reloaded with a version change:\n",
      "  1) ipykernel/2023b => ipykernel/2025a\n",
      "  2) scipy-stack/2023b => scipy-stack/2025a\n",
      "\n"
     ]
    },
    {
     "name": "stdout",
     "output_type": "stream",
     "text": [
      "✅ Amber environment loaded into Jupyter kernel.\n"
     ]
    },
    {
     "name": "stderr",
     "output_type": "stream",
     "text": [
      "Lmod Warning:\n",
      "-------------------------------------------------------------------------------\n",
      "The following dependent module(s) are not currently loaded: scipy-stack/2025a\n",
      "(required by: amber/24)\n",
      "-------------------------------------------------------------------------------\n",
      "\n",
      "\n",
      "\n",
      "\n",
      "Inactive Modules:\n",
      "  1) arrayfire/3.9.0     2) cudnn/8.9.5.29     3) glfw/3.3.8     4) spdlog/1.11.0\n",
      "\n",
      "Due to MODULEPATH changes, the following have been reloaded:\n",
      "  1) ambertools/25.0     2) plumed/2.9.0     3) ucc-cuda/1.2.0     4) ucx-cuda/1.14.1\n",
      "\n",
      "The following have been reloaded with a version change:\n",
      "  1) cuda/12.2 => cuda/12.6\n",
      "  2) cudacore/.12.2.2 => cudacore/.12.6.2\n",
      "  3) ipykernel/2025a => ipykernel/2023b\n",
      "  4) nccl/2.18.3 => nccl/2.26.2\n",
      "  5) scipy-stack/2025a => scipy-stack/2023b\n",
      "\n"
     ]
    }
   ],
   "source": [
    "load_amber_env()"
   ]
  },
  {
   "cell_type": "markdown",
   "id": "e2592f66",
   "metadata": {},
   "source": [
    "### Prepare the Non-Covalent Ligand\n",
    "\n",
    "Rosiglitazone (BRL) from the 6ONJ PDB is **not protonated**.  \n",
    "\n",
    "1. Create a new directory called `ligand_prep` and change into it.  \n",
    "2. Copy `BRL.pdb` (BRL saved as a PDB file without PPARg LBD in 6ONJ.pdb) into this directory for further processing.\n"
   ]
  },
  {
   "cell_type": "code",
   "execution_count": 8,
   "id": "35c14372-1cf8-4a83-b79e-b00e7354c173",
   "metadata": {
    "scrolled": true
   },
   "outputs": [
    {
     "name": "stdout",
     "output_type": "stream",
     "text": [
      "/panfs/accrepfs.vampire/data/kojetin_lab/Mithun/My_Github/Amber_noncovalent_run/ligand_prep\n",
      "/bin/bash: ml: line 1: syntax error: unexpected end of file\n",
      "/bin/bash: error importing function definition for `ml'\n",
      "/bin/bash: module: line 1: syntax error: unexpected end of file\n",
      "/bin/bash: error importing function definition for `module'\n",
      "/bin/bash: module: line 1: syntax error: unexpected end of file\n",
      "/bin/bash: error importing function definition for `module'\n",
      "/bin/bash: ml: line 1: syntax error: unexpected end of file\n",
      "/bin/bash: error importing function definition for `ml'\n"
     ]
    },
    {
     "name": "stderr",
     "output_type": "stream",
     "text": [
      "/cvmfs/soft.computecanada.ca/easybuild/software/2023/x86-64-v3/Compiler/gcccore/ipykernel/2025a/lib/python3.12/site-packages/IPython/core/magics/osm.py:417: UserWarning: This is now an optional IPython functionality, setting dhist requires you to install the `pickleshare` library.\n",
      "  self.shell.db['dhist'] = compress_dhist(dhist)[-100:]\n"
     ]
    },
    {
     "name": "stdout",
     "output_type": "stream",
     "text": [
      "Processing file: \"BRL.pdb\"\n",
      "Building or keeping OH & SH Hydrogens.\n",
      "WARNING: atom H141 from BRL will be treated as hydrogen\n",
      "WARNING: atom H141 from BRL will be treated as hydrogen\n",
      "WARNING: atom H142 from BRL will be treated as hydrogen\n",
      "WARNING: atom H142 from BRL will be treated as hydrogen\n",
      "WARNING: atom H141 from BRL will be treated as hydrogen\n",
      "WARNING: atom H142 from BRL will be treated as hydrogen\n",
      "WARNING: atom H151 from BRL will be treated as hydrogen\n",
      "WARNING: atom H151 from BRL will be treated as hydrogen\n",
      "WARNING: atom H152 from BRL will be treated as hydrogen\n",
      "WARNING: atom H152 from BRL will be treated as hydrogen\n",
      "WARNING: atom H151 from BRL will be treated as hydrogen\n",
      "WARNING: atom H152 from BRL will be treated as hydrogen\n",
      "WARNING: atom H161 from BRL will be treated as hydrogen\n",
      "WARNING: atom H161 from BRL will be treated as hydrogen\n",
      "WARNING: atom H162 from BRL will be treated as hydrogen\n",
      "WARNING: atom H163 from BRL will be treated as hydrogen\n",
      "WARNING: atom H162 from BRL will be treated as hydrogen\n",
      "WARNING: atom H161 from BRL will be treated as hydrogen\n",
      "WARNING: atom H162 from BRL will be treated as hydrogen\n",
      "WARNING: atom H163 from BRL will be treated as hydrogen\n",
      "WARNING: atom H163 from BRL will be treated as hydrogen\n",
      "WARNING: atom H161 from BRL will be treated as hydrogen\n",
      "WARNING: atom H162 from BRL will be treated as hydrogen\n",
      "WARNING: atom H163 from BRL will be treated as hydrogen\n",
      "WARNING: atom H163 from BRL will be treated as hydrogen\n",
      "WARNING: atom H163 from BRL will be treated as hydrogen\n",
      "WARNING: atom H162 from BRL will be treated as hydrogen\n",
      "WARNING: atom H161 from BRL will be treated as hydrogen\n",
      "WARNING: atom H162 from BRL will be treated as hydrogen\n",
      "WARNING: atom H163 from BRL will be treated as hydrogen\n",
      "WARNING: atom H162 from BRL will be treated as hydrogen\n",
      "WARNING: atom H161 from BRL will be treated as hydrogen\n",
      "WARNING: atom H161 from BRL will be treated as hydrogen\n",
      "WARNING: atom H163 from BRL will be treated as hydrogen\n",
      "WARNING: atom H162 from BRL will be treated as hydrogen\n",
      "WARNING: atom H161 from BRL will be treated as hydrogen\n",
      "WARNING: atom H152 from BRL will be treated as hydrogen\n",
      "WARNING: atom H152 from BRL will be treated as hydrogen\n",
      "WARNING: atom H151 from BRL will be treated as hydrogen\n",
      "WARNING: atom H151 from BRL will be treated as hydrogen\n",
      "WARNING: atom H152 from BRL will be treated as hydrogen\n",
      "WARNING: atom H151 from BRL will be treated as hydrogen\n",
      "WARNING: atom H142 from BRL will be treated as hydrogen\n",
      "WARNING: atom H142 from BRL will be treated as hydrogen\n",
      "WARNING: atom H141 from BRL will be treated as hydrogen\n",
      "WARNING: atom H141 from BRL will be treated as hydrogen\n",
      "WARNING: atom H142 from BRL will be treated as hydrogen\n",
      "WARNING: atom H141 from BRL will be treated as hydrogen\n",
      "VDW dot density = 16/A^2\n",
      "Probe radius = 0.25A\n",
      "Orientation penalty scale = 1 (100%)\n",
      "Eliminate contacts within 3 bonds.\n",
      "Ignore atoms with |occupancy| <= 0.01 during adjustments.\n",
      "Waters ignored if B-Factor >= 40 or |occupancy| < 0.66\n",
      "Aromatic rings in amino acids accept hydrogen bonds.\n",
      "Rotating NH3 Hydrogens.\n",
      "Not processing Met methyls.\n",
      "Found 0 hydrogens (0 hets)\n",
      "Standardized 0 hydrogens (0 hets)\n",
      "Added 19 hydrogens (19 hets)\n",
      "If you publish work which uses reduce, please cite:\n",
      "Word, et. al. (1999) J. Mol. Biol. 285, 1735-1747.\n",
      "For more information see http://kinemage.biochem.duke.edu\n"
     ]
    }
   ],
   "source": [
    "%cd ligand_prep\n",
    "!reduce BRL.pdb > BRL_H.pdb"
   ]
  },
  {
   "cell_type": "markdown",
   "id": "203acc11",
   "metadata": {},
   "source": [
    "Use `pdb4amber` to clean and prepare `BRL_H.pdb` for AMBER compatibility, saving the output as `BRL_clean_H.pdb`.\n"
   ]
  },
  {
   "cell_type": "code",
   "execution_count": 9,
   "id": "9e0b5abb-b325-4e62-9f2c-dfb8ce6c3b0a",
   "metadata": {
    "scrolled": true
   },
   "outputs": [
    {
     "name": "stdout",
     "output_type": "stream",
     "text": [
      "/bin/bash: ml: line 1: syntax error: unexpected end of file\n",
      "/bin/bash: error importing function definition for `ml'\n",
      "/bin/bash: module: line 1: syntax error: unexpected end of file\n",
      "/bin/bash: error importing function definition for `module'\n",
      "\n",
      "==================================================\n",
      "Summary of pdb4amber for: BRL_H.pdb\n",
      "===================================================\n",
      "\n",
      "----------Chains\n",
      "The following (original) chains have been found:\n",
      "A\n",
      "\n",
      "---------- Alternate Locations (Original Residues!))\n",
      "\n",
      "The following residues had alternate locations:\n",
      "None\n",
      "-----------Non-standard-resnames\n",
      "BRL\n",
      "\n",
      "---------- Missing heavy atom(s)\n",
      "\n",
      "None\n"
     ]
    }
   ],
   "source": [
    "!pdb4amber -i BRL_H.pdb -o BRL_clean_H.pdb\n",
    "#Upload onto RED server and generate the charges "
   ]
  },
  {
   "cell_type": "markdown",
   "id": "ac6a2862",
   "metadata": {},
   "source": [
    "Upload the files to the **R.E.D. Server**, run the job, then download the entire job folder and place it in your working directory.\n",
    "\n",
    "***********************\n",
    "\n",
    "Generate the `BRL.frcmod` file (force field parameters) from the `.mol2` file using GAFF2:\n"
   ]
  },
  {
   "cell_type": "code",
   "execution_count": 11,
   "id": "bf62f5c4-7223-4f60-a6a4-5d779017ce42",
   "metadata": {
    "scrolled": true
   },
   "outputs": [
    {
     "name": "stdout",
     "output_type": "stream",
     "text": [
      "/bin/bash: ml: line 1: syntax error: unexpected end of file\n",
      "/bin/bash: error importing function definition for `ml'\n",
      "/bin/bash: module: line 1: syntax error: unexpected end of file\n",
      "/bin/bash: error importing function definition for `module'\n",
      "/bin/bash: module: line 1: syntax error: unexpected end of file\n",
      "/bin/bash: error importing function definition for `module'\n",
      "/bin/bash: ml: line 1: syntax error: unexpected end of file\n",
      "/bin/bash: error importing function definition for `ml'\n",
      "Warning: Ignoring Mol2 record type (@<TRIPOS>HEADTAIL).\n",
      "Warning: Ignoring Mol2 record type (@<TRIPOS>RESIDUECONNECT).\n"
     ]
    }
   ],
   "source": [
    "!parmchk2 -i ../RED_server_P7173/Data-R.E.D.Server/Mol_m1/Mol-sm_m1-c1.mol2 -f mol2 -o BRL.frcmod -s gaff2"
   ]
  },
  {
   "cell_type": "markdown",
   "id": "56173840",
   "metadata": {},
   "source": [
    "Create the `tleap.in` input file (notice that we are cd-ing to the parent directory).  \n",
    "This script instructs **tleap** to load the ligand and protein, apply the chosen force fields, add counter-ions, and build the final system topology and coordinate files for AMBER.\n"
   ]
  },
  {
   "cell_type": "code",
   "execution_count": 12,
   "id": "b7bf3a6d-5322-4a1c-a001-f398b07f7df6",
   "metadata": {},
   "outputs": [
    {
     "name": "stderr",
     "output_type": "stream",
     "text": [
      "bash: ml: line 1: syntax error: unexpected end of file\n",
      "bash: error importing function definition for `ml'\n",
      "bash: module: line 1: syntax error: unexpected end of file\n",
      "bash: error importing function definition for `module'\n"
     ]
    },
    {
     "name": "stdout",
     "output_type": "stream",
     "text": [
      "✅ tleap.in file written successfully.\n"
     ]
    }
   ],
   "source": [
    "%%bash\n",
    "# Write tleap.in file for building solvated system\n",
    "\n",
    "cd ../\n",
    "\n",
    "cat > tleap.in <<'EOF'\n",
    "#!/bin/bash\n",
    "# load script using: tleap -s -f tleap.in\n",
    "\n",
    "source leaprc.protein.ff14SB\n",
    "source leaprc.gaff\n",
    "source leaprc.water.tip3p\n",
    "\n",
    "loadamberparams ligand_prep/BRL.frcmod\n",
    "BRL = loadmol3 RED_server_P7173/Data-R.E.D.Server/Mol_m1/Mol-sm_m1-c1.mol2 \n",
    "complex = loadPdb 6ONJ_BRL_complex.pdb\n",
    "\n",
    "check complex\n",
    "charge complex\n",
    "\n",
    "addions complex Na+ 0\n",
    "addions complex Cl- 0\n",
    "\n",
    "solvateoct complex TIP3PBOX 10.0 iso\n",
    "\n",
    "# addions complex K+ 11\n",
    "# addions complex Cl- 11\n",
    "\n",
    "saveamberparm complex prepin.prmtop prepin.inpcrd\n",
    "savepdb complex prepin.pdb\n",
    "\n",
    "quit\n",
    "\n",
    "EOF\n",
    "\n",
    "echo \"✅ tleap.in file written successfully.\"\n"
   ]
  },
  {
   "cell_type": "code",
   "execution_count": null,
   "id": "6837ef26-6a1e-4d46-9ad8-296ba3c99272",
   "metadata": {
    "scrolled": true
   },
   "outputs": [
    {
     "name": "stdout",
     "output_type": "stream",
     "text": [
      "/panfs/accrepfs.vampire/data/kojetin_lab/Mithun/My_Github/Amber_noncovalent_run\n",
      "/bin/bash: ml: line 1: syntax error: unexpected end of file\n",
      "/bin/bash: error importing function definition for `ml'\n",
      "/bin/bash: module: line 1: syntax error: unexpected end of file\n",
      "/bin/bash: error importing function definition for `module'\n",
      "/bin/sh: module: line 1: syntax error: unexpected end of file\n",
      "/bin/sh: error importing function definition for `module'\n",
      "/bin/sh: ml: line 1: syntax error: unexpected end of file\n",
      "/bin/sh: error importing function definition for `ml'\n",
      "-I: Adding /cvmfs/soft.computecanada.ca/easybuild/software/2023/x86-64-v3/MPI/gcc12/openmpi4/ambertools/25.0/dat/leap/prep to search path.\n",
      "-I: Adding /cvmfs/soft.computecanada.ca/easybuild/software/2023/x86-64-v3/MPI/gcc12/openmpi4/ambertools/25.0/dat/leap/lib to search path.\n",
      "-I: Adding /cvmfs/soft.computecanada.ca/easybuild/software/2023/x86-64-v3/MPI/gcc12/openmpi4/ambertools/25.0/dat/leap/parm to search path.\n",
      "-I: Adding /cvmfs/soft.computecanada.ca/easybuild/software/2023/x86-64-v3/MPI/gcc12/openmpi4/ambertools/25.0/dat/leap/cmd to search path.\n",
      "-s: Ignoring all leaprc startup files.\n",
      "-f: Source tleap.in.\n",
      "\n",
      "Welcome to LEaP!\n",
      "Sourcing: ./tleap.in\n",
      "----- Source: /cvmfs/soft.computecanada.ca/easybuild/software/2023/x86-64-v3/MPI/gcc12/openmpi4/ambertools/25.0/dat/leap/cmd/leaprc.protein.ff14SB\n",
      "----- Source of /cvmfs/soft.computecanada.ca/easybuild/software/2023/x86-64-v3/MPI/gcc12/openmpi4/ambertools/25.0/dat/leap/cmd/leaprc.protein.ff14SB done\n",
      "Log file: ./leap.log\n"
     ]
    },
    {
     "name": "stderr",
     "output_type": "stream",
     "text": [
      "/cvmfs/soft.computecanada.ca/easybuild/software/2023/x86-64-v3/Compiler/gcccore/ipykernel/2025a/lib/python3.12/site-packages/IPython/core/magics/osm.py:417: UserWarning: This is now an optional IPython functionality, setting dhist requires you to install the `pickleshare` library.\n",
      "  self.shell.db['dhist'] = compress_dhist(dhist)[-100:]\n"
     ]
    },
    {
     "name": "stdout",
     "output_type": "stream",
     "text": [
      "Loading parameters: /cvmfs/soft.computecanada.ca/easybuild/software/2023/x86-64-v3/MPI/gcc12/openmpi4/ambertools/25.0/dat/leap/parm/parm10.dat\n",
      "Reading title:\n",
      "PARM99 + frcmod.ff99SB + frcmod.parmbsc0 + OL3 for RNA\n",
      "Loading parameters: /cvmfs/soft.computecanada.ca/easybuild/software/2023/x86-64-v3/MPI/gcc12/openmpi4/ambertools/25.0/dat/leap/parm/frcmod.ff14SB\n",
      "Reading force field modification type file (frcmod)\n",
      "Reading title:\n",
      "ff14SB protein backbone and sidechain parameters\n",
      "Loading library: /cvmfs/soft.computecanada.ca/easybuild/software/2023/x86-64-v3/MPI/gcc12/openmpi4/ambertools/25.0/dat/leap/lib/amino12.lib\n",
      "Loading library: /cvmfs/soft.computecanada.ca/easybuild/software/2023/x86-64-v3/MPI/gcc12/openmpi4/ambertools/25.0/dat/leap/lib/aminoct12.lib\n",
      "Loading library: /cvmfs/soft.computecanada.ca/easybuild/software/2023/x86-64-v3/MPI/gcc12/openmpi4/ambertools/25.0/dat/leap/lib/aminont12.lib\n",
      "----- Source: /cvmfs/soft.computecanada.ca/easybuild/software/2023/x86-64-v3/MPI/gcc12/openmpi4/ambertools/25.0/dat/leap/cmd/leaprc.gaff\n",
      "----- Source of /cvmfs/soft.computecanada.ca/easybuild/software/2023/x86-64-v3/MPI/gcc12/openmpi4/ambertools/25.0/dat/leap/cmd/leaprc.gaff done\n",
      "Log file: ./leap.log\n",
      "Loading parameters: /cvmfs/soft.computecanada.ca/easybuild/software/2023/x86-64-v3/MPI/gcc12/openmpi4/ambertools/25.0/dat/leap/parm/gaff.dat\n",
      "Reading title:\n",
      "AMBER General Force Field for organic molecules (Version 1.81, May 2017)\n",
      "----- Source: /cvmfs/soft.computecanada.ca/easybuild/software/2023/x86-64-v3/MPI/gcc12/openmpi4/ambertools/25.0/dat/leap/cmd/leaprc.water.tip3p\n",
      "----- Source of /cvmfs/soft.computecanada.ca/easybuild/software/2023/x86-64-v3/MPI/gcc12/openmpi4/ambertools/25.0/dat/leap/cmd/leaprc.water.tip3p done\n",
      "Loading library: /cvmfs/soft.computecanada.ca/easybuild/software/2023/x86-64-v3/MPI/gcc12/openmpi4/ambertools/25.0/dat/leap/lib/atomic_ions.lib\n",
      "Loading library: /cvmfs/soft.computecanada.ca/easybuild/software/2023/x86-64-v3/MPI/gcc12/openmpi4/ambertools/25.0/dat/leap/lib/solvents.lib\n",
      "Loading parameters: /cvmfs/soft.computecanada.ca/easybuild/software/2023/x86-64-v3/MPI/gcc12/openmpi4/ambertools/25.0/dat/leap/parm/frcmod.tip3p\n",
      "Reading force field modification type file (frcmod)\n",
      "Reading title:\n",
      "This is the additional/replacement parameter set for TIP3P water\n",
      "Loading parameters: /cvmfs/soft.computecanada.ca/easybuild/software/2023/x86-64-v3/MPI/gcc12/openmpi4/ambertools/25.0/dat/leap/parm/frcmod.ions1lm_126_tip3p\n",
      "Reading force field modification type file (frcmod)\n",
      "Reading title:\n",
      "Li/Merz ion parameters of monovalent ions for TIP3P water model (12-6 normal usage set)\n",
      "Loading parameters: /cvmfs/soft.computecanada.ca/easybuild/software/2023/x86-64-v3/MPI/gcc12/openmpi4/ambertools/25.0/dat/leap/parm/frcmod.ionsjc_tip3p\n",
      "Reading force field modification type file (frcmod)\n",
      "Reading title:\n",
      "Monovalent ion parameters for Ewald and TIP3P water from Joung & Cheatham JPCB (2008)\n",
      "Loading parameters: /cvmfs/soft.computecanada.ca/easybuild/software/2023/x86-64-v3/MPI/gcc12/openmpi4/ambertools/25.0/dat/leap/parm/frcmod.ions234lm_126_tip3p\n",
      "Reading force field modification type file (frcmod)\n",
      "Reading title:\n",
      "Li/Merz ion parameters of divalent to tetravalent ions for TIP3P water model (12-6 normal usage set)\n",
      "Loading parameters: ./ligand_prep/BRL.frcmod\n",
      "Reading force field modification type file (frcmod)\n",
      "Reading title:\n",
      "Remark line goes here\n",
      "Loading Mol3 file: ./RED_server_P7173/Data-R.E.D.Server/Mol_m1/Mol-sm_m1-c1.mol2\n",
      "Reading MOLECULE named BRL\n",
      "Loading PDB file: ./6ONJ_BRL_complex.pdb\n",
      " (starting new molecule for chain  )\n",
      "\n",
      "/cvmfs/soft.computecanada.ca/easybuild/software/2023/x86-64-v3/MPI/gcc12/openmpi4/ambertools/25.0/bin/teLeap: Warning!\n",
      "Name change in pdb file residue 1 ;\n",
      "this residue is split into BRL and GLN.\n",
      "\n",
      "/cvmfs/soft.computecanada.ca/easybuild/software/2023/x86-64-v3/MPI/gcc12/openmpi4/ambertools/25.0/bin/teLeap: Note.\n",
      "1 residues had naming warnings.\n",
      "Thus, there are split residues;\n",
      "residue sequence numbers will not correspond to those in the pdb.\n",
      "  total atoms in file: 4531\n",
      "Checking 'complex'....\n",
      "\n",
      "/cvmfs/soft.computecanada.ca/easybuild/software/2023/x86-64-v3/MPI/gcc12/openmpi4/ambertools/25.0/bin/teLeap: Warning!\n",
      "The unperturbed charge of the unit (-4.000000) is not zero.\n",
      "\n",
      "/cvmfs/soft.computecanada.ca/easybuild/software/2023/x86-64-v3/MPI/gcc12/openmpi4/ambertools/25.0/bin/teLeap: Warning!\n",
      "Close contact of 1.393 angstroms between nonbonded atoms HG23 and H\n",
      "-------  .R<THR 148>.A<HG23 10> and .R<PHE 151>.A<H 2>\n",
      "\n",
      "/cvmfs/soft.computecanada.ca/easybuild/software/2023/x86-64-v3/MPI/gcc12/openmpi4/ambertools/25.0/bin/teLeap: Warning!\n",
      "Close contact of 1.358 angstroms between nonbonded atoms HB3 and HB2\n",
      "-------  .R<LYS 157>.A<HB3 7> and .R<LYS 157>.A<HB2 6>\n",
      "\n",
      "/cvmfs/soft.computecanada.ca/easybuild/software/2023/x86-64-v3/MPI/gcc12/openmpi4/ambertools/25.0/bin/teLeap: Warning!\n",
      "Close contact of 1.392 angstroms between nonbonded atoms OD1 and HG\n",
      "-------  .R<ASP 179>.A<OD1 9> and .R<SER 181>.A<HG 9>\n",
      "\n",
      "/cvmfs/soft.computecanada.ca/easybuild/software/2023/x86-64-v3/MPI/gcc12/openmpi4/ambertools/25.0/bin/teLeap: Warning!\n",
      "Close contact of 1.463 angstroms between nonbonded atoms HB3 and HB2\n",
      "-------  .R<GLU 259>.A<HB3 7> and .R<GLU 259>.A<HB2 6>\n",
      "Checking parameters for unit 'complex'.\n",
      "Checking for bond parameters.\n",
      "Checking for angle parameters.\n",
      "check:  Warnings: 5\n",
      "Unit is OK.\n",
      "Total unperturbed charge:  -4.000000\n",
      "Total perturbed charge:    -4.000000\n",
      "4 Na+ ions required to neutralize.\n",
      "Adding 4 counter ions to \"complex\" using 1A grid\n",
      "Grid extends from solute vdw + 1.37  to  7.37\n",
      "Resolution:      1.00 Angstrom.\n",
      " (no solvent present)\n",
      "Calculating grid charges\n",
      "Placed Na+ in complex at (13.49, 169.10, 34.04).\n",
      "Placed Na+ in complex at (12.49, 164.10, 31.04).\n",
      "Placed Na+ in complex at (34.49, 201.10, 19.04).\n",
      "Placed Na+ in complex at (12.49, 155.10, 24.04).\n",
      "\n",
      "Done adding ions.\n",
      "\n",
      "/cvmfs/soft.computecanada.ca/easybuild/software/2023/x86-64-v3/MPI/gcc12/openmpi4/ambertools/25.0/bin/teLeap: Warning!\n",
      "addIons: 1st Ion & target unit have charges of the same sign:\n",
      "     unit charge = -4.79616e-14; ion1 charge = -1;\n",
      "     can't neutralize.\n",
      "Scaling up box by a factor of 1.218024 to meet diagonal cut criterion\n",
      "  Solute vdw bounding box:              40.086 68.389 56.805\n",
      "  Total bounding box for atom centers:  92.749 92.749 92.749\n",
      "      (box expansion for 'iso' is  64.5%)\n",
      "  Solvent unit box:                     18.774 18.774 18.774\n",
      "  Volume: 411975.780 A^3 (oct)\n",
      "  Total mass 221547.532 amu,  Density 0.893 g/cc\n",
      "  Added 10529 residues.\n",
      "Checking Unit.\n",
      "Building topology.\n",
      "Building atom parameters.\n",
      "Building bond parameters.\n",
      "Building angle parameters.\n",
      "Building proper torsion parameters.\n",
      "Building improper torsion parameters.\n",
      " total 848 improper torsions applied\n",
      "Building H-Bond parameters.\n",
      "Incorporating Non-Bonded adjustments.\n",
      "Not Marking per-residue atom chain types.\n",
      "Marking per-residue atom chain types.\n",
      "  (Residues lacking connect0/connect1 - \n",
      "   these don't have chain types marked:\n",
      "\n",
      "\tres\ttotal affected\n",
      "\n",
      "\tBRL\t1\n",
      "\tCTYR\t1\n",
      "\tNGLN\t1\n",
      "\tWAT\t10529\n",
      "  )\n",
      " (no restraints)\n",
      "Writing pdb file: prepin.pdb\n",
      "   printing CRYST1 record to PDB file with box info\n",
      "\n",
      "/cvmfs/soft.computecanada.ca/easybuild/software/2023/x86-64-v3/MPI/gcc12/openmpi4/ambertools/25.0/bin/teLeap: Warning!\n",
      " Converting N-terminal residue name to PDB format: NGLN -> GLN\n",
      "\n",
      "/cvmfs/soft.computecanada.ca/easybuild/software/2023/x86-64-v3/MPI/gcc12/openmpi4/ambertools/25.0/bin/teLeap: Warning!\n",
      " Converting C-terminal residue name to PDB format: CTYR -> TYR\n",
      "\tQuit\n",
      "\n",
      "Exiting LEaP: Errors = 0; Warnings = 9; Notes = 1.\n"
     ]
    }
   ],
   "source": [
    "#Change the notebook’s working directory to the parent folder and run `tleap`.\n",
    "%cd ../\n",
    "!tleap -s -f tleap.in"
   ]
  },
  {
   "cell_type": "markdown",
   "id": "e0448f09",
   "metadata": {},
   "source": [
    "Display the last line of `prepin.inpcrd` to find the simulation box dimensions generated by `tleap`."
   ]
  },
  {
   "cell_type": "code",
   "execution_count": 16,
   "id": "8e413548-54f5-4326-848e-2af60ab00220",
   "metadata": {},
   "outputs": [
    {
     "name": "stdout",
     "output_type": "stream",
     "text": [
      "/bin/bash: ml: line 1: syntax error: unexpected end of file\n",
      "/bin/bash: error importing function definition for `ml'\n",
      "/bin/bash: module: line 1: syntax error: unexpected end of file\n",
      "/bin/bash: error importing function definition for `module'\n",
      "  81.1891231  81.1891231  81.1891231 109.4712190 109.4712190 109.4712190\n"
     ]
    }
   ],
   "source": [
    "!tail -n 1 prepin.inpcrd"
   ]
  },
  {
   "cell_type": "markdown",
   "id": "9a3ee0cd",
   "metadata": {},
   "source": [
    "Use `molarity.perl` (from the `Scripts` folder) to calculate the amount of KCl to add for a **50 mM solution**  \n",
    "based on the given box dimensions:\n"
   ]
  },
  {
   "cell_type": "code",
   "execution_count": 18,
   "id": "922de55e-6963-4368-8a37-ee0d82ceae2a",
   "metadata": {},
   "outputs": [
    {
     "name": "stdout",
     "output_type": "stream",
     "text": [
      "/bin/bash: ml: line 1: syntax error: unexpected end of file\n",
      "/bin/bash: error importing function definition for `ml'\n",
      "/bin/bash: module: line 1: syntax error: unexpected end of file\n",
      "/bin/bash: error importing function definition for `module'\n",
      " MOLARITY =    0.050\n",
      " Box size =   81.189   81.189   81.189  109.471  109.471  109.471\n",
      " Volume = 411975.783\n",
      "\n",
      "   12.405 molecules are necessary to make a molarity of   0.05 M\n",
      "\n"
     ]
    }
   ],
   "source": [
    "#perl molarity.perl {conc in M} {pasted coordinates from above}\n",
    "!perl Scripts/molarity.perl 0.05 81.1891231  81.1891231  81.1891231 109.4712190 109.4712190 109.4712190"
   ]
  },
  {
   "cell_type": "markdown",
   "id": "d1404b41",
   "metadata": {},
   "source": [
    "The molarity calculation output indicated that ~12.4 molecules are needed for a 0.05 M solution so we will add 12 K+ and 12 Cl- to the tleap.in file\n",
    "\n",
    "Update the `tleap.in` file to adjust the number of ions added (K⁺ and Cl⁻) based on the molarity calculation:\n"
   ]
  },
  {
   "cell_type": "code",
   "execution_count": 23,
   "id": "e74a33ea-2ab9-4968-ac7e-d9dd16608ef3",
   "metadata": {},
   "outputs": [
    {
     "name": "stdout",
     "output_type": "stream",
     "text": [
      "/bin/bash: ml: line 1: syntax error: unexpected end of file\n",
      "/bin/bash: error importing function definition for `ml'\n",
      "/bin/bash: module: line 1: syntax error: unexpected end of file\n",
      "/bin/bash: error importing function definition for `module'\n"
     ]
    }
   ],
   "source": [
    "# Replace K+ 4 -> K+ 11 and Cl- 11 -> Cl- 16 in tleap input file\n",
    "!sed -i 's/# addions complex K+ 11/addions complex K+ 12/; s/# addions complex Cl- 11/addions complex Cl- 12/' tleap.in"
   ]
  },
  {
   "cell_type": "markdown",
   "id": "282ddf0f",
   "metadata": {},
   "source": [
    "Sanity check - confirm that the intended changes were made "
   ]
  },
  {
   "cell_type": "code",
   "execution_count": 24,
   "id": "85ec2bd4-de6a-45f1-b7fe-234959ffbb6e",
   "metadata": {},
   "outputs": [
    {
     "name": "stdout",
     "output_type": "stream",
     "text": [
      "/bin/bash: ml: line 1: syntax error: unexpected end of file\n",
      "/bin/bash: error importing function definition for `ml'\n",
      "/bin/bash: module: line 1: syntax error: unexpected end of file\n",
      "/bin/bash: error importing function definition for `module'\n",
      "tail: cannot open '10' for reading: No such file or directory\n",
      "==> tleap.in <==\n",
      "solvateoct complex TIP3PBOX 10.0 iso\n",
      "\n",
      "addions complex K+ 12\n",
      "addions complex Cl- 12\n",
      "\n",
      "saveamberparm complex prepin.prmtop prepin.inpcrd\n",
      "savepdb complex prepin.pdb\n",
      "\n",
      "quit\n",
      "\n"
     ]
    }
   ],
   "source": [
    "!tail 10 tleap.in"
   ]
  },
  {
   "cell_type": "markdown",
   "id": "ff6adfc7",
   "metadata": {},
   "source": [
    "Re-run tleap so we have input files with all the updates "
   ]
  },
  {
   "cell_type": "code",
   "execution_count": 25,
   "id": "f918e6b6-0c5c-4d73-8636-4303441dfd5a",
   "metadata": {
    "scrolled": true
   },
   "outputs": [
    {
     "name": "stdout",
     "output_type": "stream",
     "text": [
      "/bin/bash: ml: line 1: syntax error: unexpected end of file\n",
      "/bin/bash: error importing function definition for `ml'\n",
      "/bin/bash: module: line 1: syntax error: unexpected end of file\n",
      "/bin/bash: error importing function definition for `module'\n",
      "/bin/sh: module: line 1: syntax error: unexpected end of file\n",
      "/bin/sh: error importing function definition for `module'\n",
      "/bin/sh: ml: line 1: syntax error: unexpected end of file\n",
      "/bin/sh: error importing function definition for `ml'\n",
      "-I: Adding /cvmfs/soft.computecanada.ca/easybuild/software/2023/x86-64-v3/MPI/gcc12/openmpi4/ambertools/25.0/dat/leap/prep to search path.\n",
      "-I: Adding /cvmfs/soft.computecanada.ca/easybuild/software/2023/x86-64-v3/MPI/gcc12/openmpi4/ambertools/25.0/dat/leap/lib to search path.\n",
      "-I: Adding /cvmfs/soft.computecanada.ca/easybuild/software/2023/x86-64-v3/MPI/gcc12/openmpi4/ambertools/25.0/dat/leap/parm to search path.\n",
      "-I: Adding /cvmfs/soft.computecanada.ca/easybuild/software/2023/x86-64-v3/MPI/gcc12/openmpi4/ambertools/25.0/dat/leap/cmd to search path.\n",
      "-s: Ignoring all leaprc startup files.\n",
      "-f: Source tleap.in.\n",
      "\n",
      "Welcome to LEaP!\n",
      "Sourcing: ./tleap.in\n",
      "----- Source: /cvmfs/soft.computecanada.ca/easybuild/software/2023/x86-64-v3/MPI/gcc12/openmpi4/ambertools/25.0/dat/leap/cmd/leaprc.protein.ff14SB\n",
      "----- Source of /cvmfs/soft.computecanada.ca/easybuild/software/2023/x86-64-v3/MPI/gcc12/openmpi4/ambertools/25.0/dat/leap/cmd/leaprc.protein.ff14SB done\n",
      "Log file: ./leap.log\n",
      "Loading parameters: /cvmfs/soft.computecanada.ca/easybuild/software/2023/x86-64-v3/MPI/gcc12/openmpi4/ambertools/25.0/dat/leap/parm/parm10.dat\n",
      "Reading title:\n",
      "PARM99 + frcmod.ff99SB + frcmod.parmbsc0 + OL3 for RNA\n",
      "Loading parameters: /cvmfs/soft.computecanada.ca/easybuild/software/2023/x86-64-v3/MPI/gcc12/openmpi4/ambertools/25.0/dat/leap/parm/frcmod.ff14SB\n",
      "Reading force field modification type file (frcmod)\n",
      "Reading title:\n",
      "ff14SB protein backbone and sidechain parameters\n",
      "Loading library: /cvmfs/soft.computecanada.ca/easybuild/software/2023/x86-64-v3/MPI/gcc12/openmpi4/ambertools/25.0/dat/leap/lib/amino12.lib\n",
      "Loading library: /cvmfs/soft.computecanada.ca/easybuild/software/2023/x86-64-v3/MPI/gcc12/openmpi4/ambertools/25.0/dat/leap/lib/aminoct12.lib\n",
      "Loading library: /cvmfs/soft.computecanada.ca/easybuild/software/2023/x86-64-v3/MPI/gcc12/openmpi4/ambertools/25.0/dat/leap/lib/aminont12.lib\n",
      "----- Source: /cvmfs/soft.computecanada.ca/easybuild/software/2023/x86-64-v3/MPI/gcc12/openmpi4/ambertools/25.0/dat/leap/cmd/leaprc.gaff\n",
      "----- Source of /cvmfs/soft.computecanada.ca/easybuild/software/2023/x86-64-v3/MPI/gcc12/openmpi4/ambertools/25.0/dat/leap/cmd/leaprc.gaff done\n",
      "Log file: ./leap.log\n",
      "Loading parameters: /cvmfs/soft.computecanada.ca/easybuild/software/2023/x86-64-v3/MPI/gcc12/openmpi4/ambertools/25.0/dat/leap/parm/gaff.dat\n",
      "Reading title:\n",
      "AMBER General Force Field for organic molecules (Version 1.81, May 2017)\n",
      "----- Source: /cvmfs/soft.computecanada.ca/easybuild/software/2023/x86-64-v3/MPI/gcc12/openmpi4/ambertools/25.0/dat/leap/cmd/leaprc.water.tip3p\n",
      "----- Source of /cvmfs/soft.computecanada.ca/easybuild/software/2023/x86-64-v3/MPI/gcc12/openmpi4/ambertools/25.0/dat/leap/cmd/leaprc.water.tip3p done\n",
      "Loading library: /cvmfs/soft.computecanada.ca/easybuild/software/2023/x86-64-v3/MPI/gcc12/openmpi4/ambertools/25.0/dat/leap/lib/atomic_ions.lib\n",
      "Loading library: /cvmfs/soft.computecanada.ca/easybuild/software/2023/x86-64-v3/MPI/gcc12/openmpi4/ambertools/25.0/dat/leap/lib/solvents.lib\n",
      "Loading parameters: /cvmfs/soft.computecanada.ca/easybuild/software/2023/x86-64-v3/MPI/gcc12/openmpi4/ambertools/25.0/dat/leap/parm/frcmod.tip3p\n",
      "Reading force field modification type file (frcmod)\n",
      "Reading title:\n",
      "This is the additional/replacement parameter set for TIP3P water\n",
      "Loading parameters: /cvmfs/soft.computecanada.ca/easybuild/software/2023/x86-64-v3/MPI/gcc12/openmpi4/ambertools/25.0/dat/leap/parm/frcmod.ions1lm_126_tip3p\n",
      "Reading force field modification type file (frcmod)\n",
      "Reading title:\n",
      "Li/Merz ion parameters of monovalent ions for TIP3P water model (12-6 normal usage set)\n",
      "Loading parameters: /cvmfs/soft.computecanada.ca/easybuild/software/2023/x86-64-v3/MPI/gcc12/openmpi4/ambertools/25.0/dat/leap/parm/frcmod.ionsjc_tip3p\n",
      "Reading force field modification type file (frcmod)\n",
      "Reading title:\n",
      "Monovalent ion parameters for Ewald and TIP3P water from Joung & Cheatham JPCB (2008)\n",
      "Loading parameters: /cvmfs/soft.computecanada.ca/easybuild/software/2023/x86-64-v3/MPI/gcc12/openmpi4/ambertools/25.0/dat/leap/parm/frcmod.ions234lm_126_tip3p\n",
      "Reading force field modification type file (frcmod)\n",
      "Reading title:\n",
      "Li/Merz ion parameters of divalent to tetravalent ions for TIP3P water model (12-6 normal usage set)\n",
      "Loading parameters: ./ligand_prep/BRL.frcmod\n",
      "Reading force field modification type file (frcmod)\n",
      "Reading title:\n",
      "Remark line goes here\n",
      "Loading Mol3 file: ./RED_server_P7173/Data-R.E.D.Server/Mol_m1/Mol-sm_m1-c1.mol2\n",
      "Reading MOLECULE named BRL\n",
      "Loading PDB file: ./6ONJ_BRL_complex.pdb\n",
      " (starting new molecule for chain  )\n",
      "\n",
      "/cvmfs/soft.computecanada.ca/easybuild/software/2023/x86-64-v3/MPI/gcc12/openmpi4/ambertools/25.0/bin/teLeap: Warning!\n",
      "Name change in pdb file residue 1 ;\n",
      "this residue is split into BRL and GLN.\n",
      "\n",
      "/cvmfs/soft.computecanada.ca/easybuild/software/2023/x86-64-v3/MPI/gcc12/openmpi4/ambertools/25.0/bin/teLeap: Note.\n",
      "1 residues had naming warnings.\n",
      "Thus, there are split residues;\n",
      "residue sequence numbers will not correspond to those in the pdb.\n",
      "  total atoms in file: 4531\n",
      "Checking 'complex'....\n",
      "\n",
      "/cvmfs/soft.computecanada.ca/easybuild/software/2023/x86-64-v3/MPI/gcc12/openmpi4/ambertools/25.0/bin/teLeap: Warning!\n",
      "The unperturbed charge of the unit (-4.000000) is not zero.\n",
      "\n",
      "/cvmfs/soft.computecanada.ca/easybuild/software/2023/x86-64-v3/MPI/gcc12/openmpi4/ambertools/25.0/bin/teLeap: Warning!\n",
      "Close contact of 1.393 angstroms between nonbonded atoms HG23 and H\n",
      "-------  .R<THR 148>.A<HG23 10> and .R<PHE 151>.A<H 2>\n",
      "\n",
      "/cvmfs/soft.computecanada.ca/easybuild/software/2023/x86-64-v3/MPI/gcc12/openmpi4/ambertools/25.0/bin/teLeap: Warning!\n",
      "Close contact of 1.358 angstroms between nonbonded atoms HB3 and HB2\n",
      "-------  .R<LYS 157>.A<HB3 7> and .R<LYS 157>.A<HB2 6>\n",
      "\n",
      "/cvmfs/soft.computecanada.ca/easybuild/software/2023/x86-64-v3/MPI/gcc12/openmpi4/ambertools/25.0/bin/teLeap: Warning!\n",
      "Close contact of 1.392 angstroms between nonbonded atoms OD1 and HG\n",
      "-------  .R<ASP 179>.A<OD1 9> and .R<SER 181>.A<HG 9>\n",
      "\n",
      "/cvmfs/soft.computecanada.ca/easybuild/software/2023/x86-64-v3/MPI/gcc12/openmpi4/ambertools/25.0/bin/teLeap: Warning!\n",
      "Close contact of 1.463 angstroms between nonbonded atoms HB3 and HB2\n",
      "-------  .R<GLU 259>.A<HB3 7> and .R<GLU 259>.A<HB2 6>\n",
      "Checking parameters for unit 'complex'.\n",
      "Checking for bond parameters.\n",
      "Checking for angle parameters.\n",
      "check:  Warnings: 5\n",
      "Unit is OK.\n",
      "Total unperturbed charge:  -4.000000\n",
      "Total perturbed charge:    -4.000000\n",
      "4 Na+ ions required to neutralize.\n",
      "Adding 4 counter ions to \"complex\" using 1A grid\n",
      "Grid extends from solute vdw + 1.37  to  7.37\n",
      "Resolution:      1.00 Angstrom.\n",
      " (no solvent present)\n",
      "Calculating grid charges\n",
      "Placed Na+ in complex at (13.49, 169.10, 34.04).\n",
      "Placed Na+ in complex at (12.49, 164.10, 31.04).\n",
      "Placed Na+ in complex at (34.49, 201.10, 19.04).\n",
      "Placed Na+ in complex at (12.49, 155.10, 24.04).\n",
      "\n",
      "Done adding ions.\n",
      "\n",
      "/cvmfs/soft.computecanada.ca/easybuild/software/2023/x86-64-v3/MPI/gcc12/openmpi4/ambertools/25.0/bin/teLeap: Warning!\n",
      "addIons: 1st Ion & target unit have charges of the same sign:\n",
      "     unit charge = -4.79616e-14; ion1 charge = -1;\n",
      "     can't neutralize.\n",
      "Scaling up box by a factor of 1.218024 to meet diagonal cut criterion\n",
      "  Solute vdw bounding box:              40.086 68.389 56.805\n",
      "  Total bounding box for atom centers:  92.749 92.749 92.749\n",
      "      (box expansion for 'iso' is  64.5%)\n",
      "  Solvent unit box:                     18.774 18.774 18.774\n",
      "  Volume: 411975.780 A^3 (oct)\n",
      "  Total mass 221547.532 amu,  Density 0.893 g/cc\n",
      "  Added 10529 residues.\n",
      "Adding 12 counter ions to \"complex\" using 1A grid\n",
      "Grid extends from solute vdw + 4.01  to  10.01\n",
      "Resolution:      1.00 Angstrom.\n",
      "Solvent present: replacing closest with ion\n",
      "\t when steric overlaps occur\n",
      "Calculating grid charges\n",
      "(Replacing solvent molecule)\n",
      "Placed K+ in complex at (-9.31, -24.20, 10.35).\n",
      "(Replacing solvent molecule)\n",
      "Placed K+ in complex at (15.02, 9.85, -4.71).\n",
      "(Replacing solvent molecule)\n",
      "Placed K+ in complex at (2.27, -8.58, 19.90).\n",
      "(Replacing solvent molecule)\n",
      "Placed K+ in complex at (-2.33, 13.89, 28.06).\n",
      "(Replacing solvent molecule)\n",
      "Placed K+ in complex at (-18.98, -12.69, -7.10).\n",
      "(Replacing solvent molecule)\n",
      "Placed K+ in complex at (-21.86, 17.95, 16.98).\n",
      "(Replacing solvent molecule)\n",
      "Placed K+ in complex at (3.54, -27.53, -4.37).\n",
      "(Replacing solvent molecule)\n",
      "Placed K+ in complex at (-13.23, 6.92, -8.51).\n",
      "(Replacing solvent molecule)\n",
      "Placed K+ in complex at (-12.19, -22.22, -17.24).\n",
      "(Replacing solvent molecule)\n",
      "Placed K+ in complex at (21.50, 10.28, 3.71).\n",
      "(Replacing solvent molecule)\n",
      "Placed K+ in complex at (13.56, -8.36, -27.90).\n",
      "(Replacing solvent molecule)\n",
      "Placed K+ in complex at (-30.16, -3.00, 20.47).\n",
      "\n",
      "Done adding ions.\n",
      "Adding 12 counter ions to \"complex\" using 1A grid\n",
      "Grid extends from solute vdw + 5.91  to  11.91\n",
      "Resolution:      1.00 Angstrom.\n",
      "Solvent present: replacing closest with ion\n",
      "\t when steric overlaps occur\n",
      "Calculating grid charges\n",
      "(Replacing solvent molecule)\n",
      "Placed Cl- in complex at (19.60, -0.74, 13.83).\n",
      "(Replacing solvent molecule)\n",
      "Placed Cl- in complex at (-9.83, 11.80, -13.53).\n",
      "(Replacing solvent molecule)\n",
      "Placed Cl- in complex at (29.81, -6.24, -6.72).\n",
      "(Replacing solvent molecule)\n",
      "Placed Cl- in complex at (-10.52, 31.68, 7.42).\n",
      "(Replacing solvent molecule)\n",
      "Placed Cl- in complex at (-6.41, -8.52, 29.57).\n",
      "(Replacing solvent molecule)\n",
      "Placed Cl- in complex at (9.49, -14.56, -30.52).\n",
      "(Replacing solvent molecule)\n",
      "Placed Cl- in complex at (-16.22, -25.32, 13.75).\n",
      "(Replacing solvent molecule)\n",
      "Placed Cl- in complex at (18.78, 16.22, -3.51).\n",
      "(Replacing solvent molecule)\n",
      "Placed Cl- in complex at (-31.72, 3.16, 22.12).\n",
      "(Replacing solvent molecule)\n",
      "Placed Cl- in complex at (-23.49, -18.38, -6.12).\n",
      "(Replacing solvent molecule)\n",
      "Placed Cl- in complex at (-37.43, 9.03, -2.19).\n",
      "(Replacing solvent molecule)\n",
      "Placed Cl- in complex at (7.26, -28.78, -10.45).\n",
      "\n",
      "Done adding ions.\n",
      "Checking Unit.\n",
      "Building topology.\n",
      "Building atom parameters.\n",
      "Building bond parameters.\n",
      "Building angle parameters.\n",
      "Building proper torsion parameters.\n",
      "Building improper torsion parameters.\n",
      " total 848 improper torsions applied\n",
      "Building H-Bond parameters.\n",
      "Incorporating Non-Bonded adjustments.\n",
      "Not Marking per-residue atom chain types.\n",
      "Marking per-residue atom chain types.\n",
      "  (Residues lacking connect0/connect1 - \n",
      "   these don't have chain types marked:\n",
      "\n",
      "\tres\ttotal affected\n",
      "\n",
      "\tBRL\t1\n",
      "\tCTYR\t1\n",
      "\tNGLN\t1\n",
      "\tWAT\t10505\n",
      "  )\n",
      " (no restraints)\n",
      "Writing pdb file: prepin.pdb\n",
      "   printing CRYST1 record to PDB file with box info\n",
      "\n",
      "/cvmfs/soft.computecanada.ca/easybuild/software/2023/x86-64-v3/MPI/gcc12/openmpi4/ambertools/25.0/bin/teLeap: Warning!\n",
      " Converting N-terminal residue name to PDB format: NGLN -> GLN\n",
      "\n",
      "/cvmfs/soft.computecanada.ca/easybuild/software/2023/x86-64-v3/MPI/gcc12/openmpi4/ambertools/25.0/bin/teLeap: Warning!\n",
      " Converting C-terminal residue name to PDB format: CTYR -> TYR\n",
      "\tQuit\n",
      "\n",
      "Exiting LEaP: Errors = 0; Warnings = 9; Notes = 1.\n"
     ]
    }
   ],
   "source": [
    "!tleap -s -f tleap.in"
   ]
  },
  {
   "cell_type": "markdown",
   "id": "612005e7",
   "metadata": {},
   "source": [
    "### Run Minimization & Equilibration\n",
    "\n",
    "This creates a `Minimization` directory, moves into it, and runs `mesmy.sh`.  \n",
    "\n",
    "The `mesmy.sh` script performs a full **system relaxation protocol** using `pmemd.cuda`:\n",
    "\n",
    "- **Step 1–5: Energy Minimization**  \n",
    "  - Strongly restrains heavy atoms, then gradually relaxes the restraints until unrestrained.  \n",
    "  - Uses steepest descent minimization to relieve steric clashes and relax solvent.\n",
    "\n",
    "- **Step 6–9: Equilibration**  \n",
    "  - Runs short NVT (constant volume) and NPT (constant pressure) MD simulations.  \n",
    "  - Gradually reduces restraints on the protein and backbone atoms.  \n",
    "  - Slowly increases timestep and stabilizes density and temperature.  \n",
    "\n",
    "Each step writes:\n",
    "- Restart files (`.rst7`) – used as input for the next step  \n",
    "- Trajectories (`.nc`) – for visualization and analysis  \n",
    "- Output logs (`.out`, `mdinfo`) – for monitoring progress  \n",
    "\n",
    "By the end, the system is minimized, equilibrated, and ready for production MD.\n"
   ]
  },
  {
   "cell_type": "code",
   "execution_count": 26,
   "id": "127c2a6a-4e00-4939-8c1c-34da361119df",
   "metadata": {},
   "outputs": [
    {
     "name": "stdout",
     "output_type": "stream",
     "text": [
      "/bin/bash: ml: line 1: syntax error: unexpected end of file\n",
      "/bin/bash: error importing function definition for `ml'\n",
      "/bin/bash: module: line 1: syntax error: unexpected end of file\n",
      "/bin/bash: error importing function definition for `module'\n",
      "/panfs/accrepfs.vampire/data/kojetin_lab/Mithun/My_Github/Amber_noncovalent_run/Minimization\n",
      "/bin/bash: ml: line 1: syntax error: unexpected end of file\n",
      "/bin/bash: error importing function definition for `ml'\n",
      "/bin/bash: module: line 1: syntax error: unexpected end of file\n",
      "/bin/bash: error importing function definition for `module'\n",
      "sh: module: line 1: syntax error: unexpected end of file\n",
      "sh: error importing function definition for `module'\n",
      "sh: ml: line 1: syntax error: unexpected end of file\n",
      "sh: error importing function definition for `ml'\n",
      "Note: The following floating-point exceptions are signalling: IEEE_UNDERFLOW_FLAG IEEE_DENORMAL\n",
      "Note: The following floating-point exceptions are signalling: IEEE_UNDERFLOW_FLAG IEEE_DENORMAL\n",
      "Note: The following floating-point exceptions are signalling: IEEE_UNDERFLOW_FLAG IEEE_DENORMAL\n",
      "Note: The following floating-point exceptions are signalling: IEEE_UNDERFLOW_FLAG IEEE_DENORMAL\n",
      "Note: The following floating-point exceptions are signalling: IEEE_UNDERFLOW_FLAG IEEE_DENORMAL\n",
      "Note: The following floating-point exceptions are signalling: IEEE_UNDERFLOW_FLAG IEEE_DENORMAL\n",
      "Note: The following floating-point exceptions are signalling: IEEE_UNDERFLOW_FLAG IEEE_DENORMAL\n",
      "Note: The following floating-point exceptions are signalling: IEEE_UNDERFLOW_FLAG IEEE_DENORMAL\n",
      "Note: The following floating-point exceptions are signalling: IEEE_UNDERFLOW_FLAG IEEE_DENORMAL\n"
     ]
    }
   ],
   "source": [
    "!mkdir Minimization \n",
    "%cd Minimization \n",
    "\n",
    "!sh ../Scripts/mesmy.sh > log.mesmy"
   ]
  },
  {
   "cell_type": "markdown",
   "id": "2111e6c9",
   "metadata": {},
   "source": [
    "### Hydrogen Mass Repartitioning (HMR)\n",
    "\n",
    "This cell creates a small ParmEd input file (`hmr_commands.in`) that performs **Hydrogen Mass Repartitioning**  \n",
    "and writes out a new topology file `prepinHMR.prmtop`.  \n",
    "HMR redistributes a small amount of mass from heavy atoms to hydrogens,  \n",
    "reducing calculations and making the simulation faster"
   ]
  },
  {
   "cell_type": "code",
   "execution_count": 27,
   "id": "c937d1db-7700-4960-ae49-8ae04d37a435",
   "metadata": {},
   "outputs": [
    {
     "name": "stderr",
     "output_type": "stream",
     "text": [
      "bash: ml: line 1: syntax error: unexpected end of file\n",
      "bash: error importing function definition for `ml'\n",
      "bash: module: line 1: syntax error: unexpected end of file\n",
      "bash: error importing function definition for `module'\n"
     ]
    },
    {
     "name": "stdout",
     "output_type": "stream",
     "text": [
      "\n",
      "                                  /^^^/           /]\n",
      "                                 /   ]           / ]\n",
      "                         _______/    ]___       /  ]\n",
      "                        /                \\_____/   /\n",
      "                      _/   [@]  \\ \\                \\\n",
      "                     /..         | |                ]\n",
      "                      VVVvvv\\    | |         _/\\    ]\n",
      "          P A R M E D       |               /    \\  ]\n",
      "                     AAA^^^^^              /       \\]\n",
      "                      \\_________\\   \\_____/\n",
      "                                \\    \\\n",
      "                                 \\____\\\n",
      "\n",
      "ParmEd: a Parameter file Editor\n",
      "\n",
      "\n",
      "Loaded Amber topology file ../prepin.prmtop\n",
      "Reading input from STDIN...\n",
      "> Repartitioning hydrogen masses to 3.024 daltons. Not changing water hydrogen masses.\n",
      "> Outputting Amber topology file prepinHMR.prmtop\n",
      "> Done!\n"
     ]
    }
   ],
   "source": [
    "%%bash\n",
    "# Create a ParmEd input file with HMR commands\n",
    "cat > hmr_commands.in <<EOF\n",
    "HMassRepartition\n",
    "outparm prepinHMR.prmtop\n",
    "go\n",
    "quit\n",
    "EOF\n",
    "\n",
    "# Run ParmEd with the input file\n",
    "parmed ../prepin.prmtop < hmr_commands.in"
   ]
  },
  {
   "cell_type": "markdown",
   "id": "dd0b084e",
   "metadata": {},
   "source": [
    "Create 'Production' folder and copy required files from Scripts folder"
   ]
  },
  {
   "cell_type": "code",
   "execution_count": null,
   "id": "8f1fc506-2060-4cfa-9142-6f8d1c254853",
   "metadata": {},
   "outputs": [
    {
     "name": "stdout",
     "output_type": "stream",
     "text": [
      "/panfs/accrepfs.vampire/data/kojetin_lab/Mithun/My_Github/Amber_noncovalent_run\n",
      "/bin/bash: ml: line 1: syntax error: unexpected end of file\n",
      "/bin/bash: error importing function definition for `ml'\n",
      "/bin/bash: module: line 1: syntax error: unexpected end of file\n",
      "/bin/bash: error importing function definition for `module'\n",
      "/panfs/accrepfs.vampire/data/kojetin_lab/Mithun/My_Github/Amber_noncovalent_run/Production\n",
      "/bin/bash: ml: line 1: syntax error: unexpected end of file\n",
      "/bin/bash: error importing function definition for `ml'\n",
      "/bin/bash: module: line 1: syntax error: unexpected end of file\n",
      "/bin/bash: error importing function definition for `module'\n"
     ]
    },
    {
     "name": "stderr",
     "output_type": "stream",
     "text": [
      "/cvmfs/soft.computecanada.ca/easybuild/software/2023/x86-64-v3/Compiler/gcccore/ipykernel/2025a/lib/python3.12/site-packages/IPython/core/magics/osm.py:417: UserWarning: This is now an optional IPython functionality, setting dhist requires you to install the `pickleshare` library.\n",
      "  self.shell.db['dhist'] = compress_dhist(dhist)[-100:]\n"
     ]
    },
    {
     "name": "stdout",
     "output_type": "stream",
     "text": [
      "/bin/bash: ml: line 1: syntax error: unexpected end of file\n",
      "/bin/bash: error importing function definition for `ml'\n",
      "/bin/bash: module: line 1: syntax error: unexpected end of file\n",
      "/bin/bash: error importing function definition for `module'\n",
      "/bin/bash: ml: line 1: syntax error: unexpected end of file\n",
      "/bin/bash: error importing function definition for `ml'\n",
      "/bin/bash: module: line 1: syntax error: unexpected end of file\n",
      "/bin/bash: error importing function definition for `module'\n"
     ]
    }
   ],
   "source": [
    "%cd ../\n",
    "!mkdir Production\n",
    "%cd Production\n",
    "!cp ../Scripts/production.pl .\n",
    "!cp ../Scripts/prod1.in.start .\n",
    "!cp ../Scripts/prod1.in ."
   ]
  },
  {
   "cell_type": "markdown",
   "id": "ab2ef4b0",
   "metadata": {},
   "source": [
    "### Production MD Setup & Execution\n",
    "\n",
    "Production MD is handled by a **Perl driver script** (`production.pl`) that automates running multiple  \n",
    "**100 ns blocks** of MD back-to-back using `pmemd.cuda`. This allows you to build very long trajectories  \n",
    "(e.g., microseconds) without manually restarting each run.\n",
    "\n",
    "What `production.pl` does:\n",
    "- Reads the final minimized/equilibrated coordinates (`step9.rst7`) and topology (`prepinHMR.prmtop`).\n",
    "- Loops from `$nstart` to `$nend`, generating sequential 100 ns MD chunks:\n",
    "  - Uses `prod1.in.start` for the first run (fresh start) and `prod1.in` for restarts.\n",
    "  - Automatically names output files (`PTR_001.out`, `md_prod1_001.nc`, `md_prod1_001.rst`, etc.).\n",
    "  - Chains restart files so each chunk continues from where the previous one ended.\n",
    "- Prints and executes the `pmemd.cuda` command for each run.\n",
    "\n",
    "Example:\n",
    "- `$nend = 10` → runs 10 × 100 ns = **1 μs total production MD**.\n",
    "- Increase `$nend` to extend the trajectory (e.g., 20 → 2 μs total).\n",
    "\n",
    "The input files (`prod1.in.start` and `prod1.in`) specify:\n",
    "- **Explicit solvent MD** under NPT conditions  \n",
    "- **dt = 0.004 ps** (with SHAKE and HMR applied → 4 fs timestep)  \n",
    "- Langevin thermostat (`ntt = 3`) and Monte Carlo barostat (`barostat = 2`)  \n",
    "- Coordinates written every 10 ps (`ntwx = 2500`)  \n",
    "\n",
    "> **Tip:**  \n",
    "> Edit `production.pl` to adjust the number of chunks, file paths, or output naming as needed  \n",
    "> before starting long production runs.\n"
   ]
  },
  {
   "cell_type": "code",
   "execution_count": null,
   "id": "a4963905-0c8b-40fa-80e1-008ad8dd6eca",
   "metadata": {},
   "outputs": [
    {
     "name": "stdout",
     "output_type": "stream",
     "text": [
      "/bin/bash: ml: line 1: syntax error: unexpected end of file\n",
      "/bin/bash: error importing function definition for `ml'\n",
      "/bin/bash: module: line 1: syntax error: unexpected end of file\n",
      "/bin/bash: error importing function definition for `module'\n",
      "^C\n"
     ]
    }
   ],
   "source": [
    "#Test to see if it works \n",
    "!perl production.pl > PRODUCTION.OUT"
   ]
  },
  {
   "cell_type": "markdown",
   "id": "fc0d028c",
   "metadata": {},
   "source": [
    "### Submit Production MD to the GPU Cluster\n",
    "\n",
    "This cell writes a **SLURM job submission script** (`6ONI_submit_slurm`) in the current working directory.  \n",
    "It requests a GPU node on ACCRE, loads the necessary modules, and runs `production.pl` to launch  \n",
    "the automated multi-chunk production MD.\n",
    "\n",
    "- **For ACCRE users:** The script is ready to submit with `sbatch 6ONI_submit_slurm`.  \n",
    "- **For other HPC systems:**  \n",
    "  - Update the `#SBATCH` directives (partition, account, GPU request) to match your scheduler.  \n",
    "  - If your cluster does not use modules, remove the `module load` commands and instead  \n",
    "    source the Amber environment manually, e.g.:  \n",
    "    ```bash\n",
    "    source /path/to/amber.sh\n",
    "    ```\n"
   ]
  },
  {
   "cell_type": "code",
   "execution_count": null,
   "id": "dc83b74d-14ef-437a-8cdd-fb48f0e953b9",
   "metadata": {},
   "outputs": [],
   "source": [
    "%%bash\n",
    "# Write slrum script in the working directory, later submit to ACCRE \n",
    "\n",
    "cat > 6ONI_submit_slurm <<'EOF'\n",
    "#!/bin/bash\n",
    "#SBATCH --job-name=Amber_Apo_6ONI_Run\n",
    "#SBATCH --mail-type=ALL\n",
    "#SBATCH --nodes=1\n",
    "#SBATCH --mem=40G\n",
    "#SBATCH --time=5-00:00:00\n",
    "#SBATCH --partition=batch_gpu\n",
    "#SBATCH --account=csb_gpu_acc\n",
    "#SBATCH --gres=gpu:nvidia_titan_x:1   # request exactly 3 GPUs on this node\n",
    "#SBATCH --output=PPARg_meta_out_%j.log\n",
    "#SBATCH --error=PPARg_meta_err_%j.log\n",
    "\n",
    "module purge\n",
    "module load StdEnvACCRE/2023\n",
    "module load gcc/12.3 openmpi/4.1.5 cuda/12.2\n",
    "module load ambertools/25.0\n",
    "module load scipy-stack/2025a\n",
    "module load amber/24\n",
    "    \n",
    "perl production.pl > PRODUCTION.OUT\n",
    "\n",
    "EOF"
   ]
  },
  {
   "cell_type": "code",
   "execution_count": null,
   "id": "b89251f9-5b1d-45b9-b529-969c2b0758ca",
   "metadata": {},
   "outputs": [],
   "source": [
    "!sbatch 6ONI_submit_slurm"
   ]
  }
 ],
 "metadata": {
  "kernelspec": {
   "display_name": "Python 3 (ipykernel)",
   "language": "python",
   "name": "python3"
  },
  "language_info": {
   "codemirror_mode": {
    "name": "ipython",
    "version": 3
   },
   "file_extension": ".py",
   "mimetype": "text/x-python",
   "name": "python",
   "nbconvert_exporter": "python",
   "pygments_lexer": "ipython3",
   "version": "3.12.4"
  }
 },
 "nbformat": 4,
 "nbformat_minor": 5
}
